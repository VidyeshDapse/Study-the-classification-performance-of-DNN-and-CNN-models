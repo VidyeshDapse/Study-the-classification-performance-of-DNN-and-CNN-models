{
 "cells": [
  {
   "cell_type": "markdown",
   "id": "b1bef938",
   "metadata": {},
   "source": [
    "# Q2 a"
   ]
  },
  {
   "cell_type": "markdown",
   "id": "984b020c",
   "metadata": {},
   "source": [
    "(a) Implementing DNNs - Use the PyTorch package to implement a DNN model with 2\n",
    "and 3 hidden layers. Each hidden layer contains 512 neurons. What is the performance on the test dataset for this classifier"
   ]
  },
  {
   "cell_type": "markdown",
   "id": "f9499b7b",
   "metadata": {},
   "source": [
    "# DNN model with 2 layers\n",
    "\n",
    "Model is train for 10 epochs. \n",
    "\n",
    "Training accuracy is 0.9944.\n",
    "\n",
    "Test accuracy is 0.9793.\n",
    "\n",
    "# DNN model with 3 layers.\n",
    "\n",
    "Training accuracy is 0.9959\n",
    "\n",
    "Test accuracy is 0.9795\n",
    "\n",
    "\n",
    "Both models have nearly same performance "
   ]
  },
  {
   "cell_type": "markdown",
   "id": "3b728fb9",
   "metadata": {},
   "source": [
    "# Q2 b"
   ]
  },
  {
   "cell_type": "markdown",
   "id": "fb808d41",
   "metadata": {},
   "source": [
    "(b) Implementing CNNs - Use the same package to implement a CNN model with one\n",
    "layer of convolutions (kernel size of 3 × 3 with a 2-D convolutional layer and having\n",
    "128 filters) followed by two dense layers of 256 neurons. Compare the performance\n",
    "of the CNN with the DNN."
   ]
  },
  {
   "cell_type": "markdown",
   "id": "7f7ebb99",
   "metadata": {},
   "source": [
    "CNN model with 128 filters followed by two dense layer of 256 neurons\n",
    "\n",
    "Model is train for 10 epochs. \n",
    "\n",
    "Training accuracy is 0.9900 \n",
    "\n",
    "Test accuracy is 0.9734.\n",
    "\n",
    "CNN model and DNN models have nearly same performance."
   ]
  },
  {
   "cell_type": "markdown",
   "id": "b43bf8aa",
   "metadata": {},
   "source": [
    "# Q2 c"
   ]
  },
  {
   "cell_type": "markdown",
   "id": "3cd709b6",
   "metadata": {},
   "source": [
    "(c) Provide your answers with analysis, plots for various choices of hidden layer dimen-\n",
    "sions and filter sizes in the CNN."
   ]
  },
  {
   "cell_type": "markdown",
   "id": "98dbc79e",
   "metadata": {},
   "source": [
    "# Performance with Various choice of hidden layer dimension"
   ]
  },
  {
   "cell_type": "markdown",
   "id": "4d3f7cd8",
   "metadata": {},
   "source": [
    "Number of filters = 128 \n",
    "\n",
    "hidden layer dimension -----------Training accuracy----------Test accuracy \n",
    "\n",
    "    256                     0.9900              0.9734\n",
    "    128                     0.9902              0.9709\n",
    "    64                      0.9874              0.9667\n",
    "    32                      0.9800              0.9592"
   ]
  },
  {
   "cell_type": "markdown",
   "id": "175137cf",
   "metadata": {},
   "source": [
    "# Performance with Various choice of filter size"
   ]
  },
  {
   "cell_type": "markdown",
   "id": "bb8b37b0",
   "metadata": {},
   "source": [
    "CNN model:\n",
    "\n",
    "Number of neurons in hidden layer = 256\n",
    "Number of filters = 128\n",
    "\n",
    "filter Size --------------------Training accuracy------------Test accuracy \n",
    "\n",
    "    4 x 4               0.9887              0.9705\n",
    "    3 X 3               0.9900              0.9734\n",
    "    2 X 2               0.9907              0.9722   \n",
    "    \n",
    "Accuracy reamins nearly same after 10 iterations.  "
   ]
  },
  {
   "cell_type": "markdown",
   "id": "83f50669",
   "metadata": {},
   "source": [
    "# Performance with Various choice of number of filters "
   ]
  },
  {
   "cell_type": "markdown",
   "id": "f22c6598",
   "metadata": {},
   "source": [
    "CNN model:\n",
    "\n",
    "Number of neurons in hidden layer = 256\n",
    "\n",
    "Number of filters----------------Training accuracy------------Test accuracy \n",
    "\n",
    "    128                     0.9900              0.9734\n",
    "    64                      0.9916              0.9729\n",
    "    32                      0.9935              0.9765\n",
    "    16                      0.9946              0.9778\n",
    "    \n",
    " With decrease in number of filters, performance of models improves.  "
   ]
  },
  {
   "cell_type": "markdown",
   "id": "b410fc47",
   "metadata": {},
   "source": [
    "Observations:\n",
    "\n",
    "    1. Change in number of filters does not affect the performance of models\n",
    "    \n",
    "    2. Change in number of dimention of dense layes affect the performance of models"
   ]
  },
  {
   "cell_type": "markdown",
   "id": "e129f421",
   "metadata": {},
   "source": [
    "All the required plots are showm below at respective locations."
   ]
  },
  {
   "cell_type": "code",
   "execution_count": 2,
   "id": "f5001667",
   "metadata": {},
   "outputs": [],
   "source": [
    "import gzip\n",
    "import os\n",
    "import numpy as np\n",
    "import matplotlib.pyplot as plt"
   ]
  },
  {
   "cell_type": "code",
   "execution_count": 3,
   "id": "dc5421c6",
   "metadata": {},
   "outputs": [],
   "source": [
    "import keras \n",
    "import tensorflow as tf\n",
    "from keras.models import Sequential\n",
    "from keras.layers import Dense, Input\n",
    "from keras.layers import Conv2D, MaxPooling2D, Dropout, Flatten,Activation\n",
    "from keras import backend as k"
   ]
  },
  {
   "cell_type": "markdown",
   "id": "bc344f08",
   "metadata": {},
   "source": [
    "# Loading data"
   ]
  },
  {
   "cell_type": "code",
   "execution_count": 4,
   "id": "d4dd1e40",
   "metadata": {},
   "outputs": [],
   "source": [
    "def load_images(file_name):\n",
    "    with gzip.open(file_name, 'r') as f:\n",
    "        magic_number = int.from_bytes(f.read(4), 'big')\n",
    "        image_count = int.from_bytes(f.read(4), 'big')\n",
    "        row_count = int.from_bytes(f.read(4), 'big')\n",
    "        column_count = int.from_bytes(f.read(4), 'big')\n",
    "        image_data = f.read()\n",
    "        images = np.frombuffer(image_data, dtype=np.uint8)\\\n",
    "            .reshape((image_count, row_count, column_count))\n",
    "        #train_images = torch.from_numpy(train_images)\n",
    "    return images\n",
    "    "
   ]
  },
  {
   "cell_type": "code",
   "execution_count": 5,
   "id": "1f441832",
   "metadata": {},
   "outputs": [],
   "source": [
    "def load_label(file_name):\n",
    "    with gzip.open(file_name, 'r') as f:\n",
    "        magic_number = int.from_bytes(f.read(4), 'big')\n",
    "        label_count = int.from_bytes(f.read(4), 'big')\n",
    "        label_data = f.read()\n",
    "        labels = np.frombuffer(label_data, dtype=np.uint8)\n",
    "        return labels    "
   ]
  },
  {
   "cell_type": "code",
   "execution_count": 6,
   "id": "aa30d7c5",
   "metadata": {},
   "outputs": [],
   "source": [
    "def plot_two(x1,x2,lab1,lab2,x_label, y_label,location,title):\n",
    "    plt.plot(x1, label=lab1)\n",
    "    plt.plot(x2, label = lab2)\n",
    "    plt.xlabel(x_label)\n",
    "    plt.ylabel(y_label)\n",
    "    plt.ylim([0.9, 1])\n",
    "    plt.legend(loc=location)\n",
    "    plt.title(title)\n",
    "    plt.show()"
   ]
  },
  {
   "cell_type": "markdown",
   "id": "b02de903",
   "metadata": {},
   "source": [
    "# Reading data "
   ]
  },
  {
   "cell_type": "code",
   "execution_count": 11,
   "id": "d28f4092",
   "metadata": {},
   "outputs": [],
   "source": [
    "train_images = load_images(\"train-images-idx3-ubyte.gz\")\n",
    "test_images = load_images(\"t10k-images-idx3-ubyte.gz\")\n",
    "\n",
    "train_labels = load_label(\"train-labels-idx1-ubyte.gz\")\n",
    "test_labels = load_label(\"t10k-labels-idx1-ubyte.gz\")"
   ]
  },
  {
   "cell_type": "code",
   "execution_count": 12,
   "id": "da6d32fe",
   "metadata": {},
   "outputs": [
    {
     "data": {
      "text/plain": [
       "(60000, 28, 28)"
      ]
     },
     "execution_count": 12,
     "metadata": {},
     "output_type": "execute_result"
    }
   ],
   "source": [
    "train_images.shape"
   ]
  },
  {
   "cell_type": "code",
   "execution_count": 59,
   "id": "183cbbe2",
   "metadata": {},
   "outputs": [
    {
     "name": "stdout",
     "output_type": "stream",
     "text": [
      "[0 1 2 3 4 5 6 7 8 9]\n"
     ]
    }
   ],
   "source": [
    "print(np.unique(train_labels))"
   ]
  },
  {
   "cell_type": "markdown",
   "id": "e52ffe48",
   "metadata": {},
   "source": [
    "# Data preprocessing "
   ]
  },
  {
   "cell_type": "markdown",
   "id": "c641af67",
   "metadata": {},
   "source": [
    "# Conversion of label vector to one hot vector "
   ]
  },
  {
   "cell_type": "code",
   "execution_count": 14,
   "id": "77ccd24f",
   "metadata": {},
   "outputs": [],
   "source": [
    "def one_hot(labels):\n",
    "    x = len(labels)\n",
    "    Y = np.zeros((10,x))\n",
    "    for i in range(x):\n",
    "        X = Y[:,i]\n",
    "        #X = X.reshape(10,1)\n",
    "        f = labels[i]\n",
    "        X[f] = 1\n",
    "        Y[:,i] = X\n",
    "    return Y"
   ]
  },
  {
   "cell_type": "code",
   "execution_count": 15,
   "id": "af892476",
   "metadata": {},
   "outputs": [],
   "source": [
    "train_label = one_hot(train_labels)\n",
    "test_label = one_hot(test_labels)"
   ]
  },
  {
   "cell_type": "code",
   "execution_count": 16,
   "id": "d81ab92f",
   "metadata": {},
   "outputs": [],
   "source": [
    "train_images = train_images.astype('float32')\n",
    "test_images = test_images.astype('float32')"
   ]
  },
  {
   "cell_type": "code",
   "execution_count": 17,
   "id": "5e1bf508",
   "metadata": {},
   "outputs": [],
   "source": [
    "train_images /=255.0\n",
    "test_images /=255.0"
   ]
  },
  {
   "cell_type": "code",
   "execution_count": 18,
   "id": "ab407ec3",
   "metadata": {},
   "outputs": [
    {
     "name": "stdout",
     "output_type": "stream",
     "text": [
      "(10, 10000)\n",
      "(10000, 28, 28)\n"
     ]
    }
   ],
   "source": [
    "print(test_label.shape)\n",
    "print(test_images.shape)"
   ]
  },
  {
   "cell_type": "code",
   "execution_count": 19,
   "id": "b9a8e642",
   "metadata": {},
   "outputs": [],
   "source": [
    "train_images = train_images.reshape(60000, 28, 28, 1)\n",
    "test_images = test_images.reshape(10000, 28, 28, 1)"
   ]
  },
  {
   "cell_type": "code",
   "execution_count": 20,
   "id": "c00864e5",
   "metadata": {},
   "outputs": [
    {
     "data": {
      "text/plain": [
       "10000"
      ]
     },
     "execution_count": 20,
     "metadata": {},
     "output_type": "execute_result"
    }
   ],
   "source": [
    "len(test_labels)"
   ]
  },
  {
   "cell_type": "markdown",
   "id": "56dd3cab",
   "metadata": {},
   "source": [
    "# Q2 a"
   ]
  },
  {
   "cell_type": "markdown",
   "id": "7839db4a",
   "metadata": {},
   "source": [
    "Implementing DNNs - Use the PyTorch package to implement a DNN model with 2\n",
    "and 3 hidden layers. Each hidden layer contains 512 neurons. What is the perfor-\n",
    "mance on the test dataset for this classifier"
   ]
  },
  {
   "cell_type": "markdown",
   "id": "f727e357",
   "metadata": {},
   "source": [
    "# 2 hidden layer "
   ]
  },
  {
   "cell_type": "code",
   "execution_count": 53,
   "id": "9a635d6d",
   "metadata": {},
   "outputs": [
    {
     "name": "stdout",
     "output_type": "stream",
     "text": [
      "Model: \"sequential_7\"\n",
      "_________________________________________________________________\n",
      " Layer (type)                Output Shape              Param #   \n",
      "=================================================================\n",
      " flatten_7 (Flatten)         (None, 784)               0         \n",
      "                                                                 \n",
      " dense_22 (Dense)            (None, 512)               401920    \n",
      "                                                                 \n",
      " dense_23 (Dense)            (None, 512)               262656    \n",
      "                                                                 \n",
      " dense_24 (Dense)            (None, 10)                5130      \n",
      "                                                                 \n",
      "=================================================================\n",
      "Total params: 669,706\n",
      "Trainable params: 669,706\n",
      "Non-trainable params: 0\n",
      "_________________________________________________________________\n"
     ]
    }
   ],
   "source": [
    "model2 = tf.keras.Sequential()\n",
    "\n",
    "model2.add(Flatten(input_shape=(28, 28)))\n",
    "\n",
    "# Hidden layer\n",
    "model2.add(tf.keras.layers.Dense(512, activation='relu'))\n",
    "model2.add(tf.keras.layers.Dense(512, activation='relu'))\n",
    "\n",
    "# Output layer\n",
    "model2.add(Dense(10,activation='softmax'))\n",
    "\n",
    "model2.summary()"
   ]
  },
  {
   "cell_type": "code",
   "execution_count": 54,
   "id": "83c0415c",
   "metadata": {},
   "outputs": [
    {
     "name": "stdout",
     "output_type": "stream",
     "text": [
      "Epoch 1/10\n",
      "1875/1875 [==============================] - 13s 7ms/step - loss: 0.1828 - accuracy: 0.9442 - val_loss: 0.1075 - val_accuracy: 0.9674\n",
      "Epoch 2/10\n",
      "1875/1875 [==============================] - 11s 6ms/step - loss: 0.0795 - accuracy: 0.9743 - val_loss: 0.0782 - val_accuracy: 0.9753\n",
      "Epoch 3/10\n",
      "1875/1875 [==============================] - 12s 7ms/step - loss: 0.0569 - accuracy: 0.9820 - val_loss: 0.0871 - val_accuracy: 0.9747\n",
      "Epoch 4/10\n",
      "1875/1875 [==============================] - 12s 6ms/step - loss: 0.0424 - accuracy: 0.9864 - val_loss: 0.0769 - val_accuracy: 0.9787\n",
      "Epoch 5/10\n",
      "1875/1875 [==============================] - 12s 6ms/step - loss: 0.0321 - accuracy: 0.9894 - val_loss: 0.0928 - val_accuracy: 0.9740\n",
      "Epoch 6/10\n",
      "1875/1875 [==============================] - 12s 7ms/step - loss: 0.0292 - accuracy: 0.9904 - val_loss: 0.1027 - val_accuracy: 0.9774\n",
      "Epoch 7/10\n",
      "1875/1875 [==============================] - 13s 7ms/step - loss: 0.0249 - accuracy: 0.9922 - val_loss: 0.0851 - val_accuracy: 0.9792\n",
      "Epoch 8/10\n",
      "1875/1875 [==============================] - 11s 6ms/step - loss: 0.0229 - accuracy: 0.9929 - val_loss: 0.0819 - val_accuracy: 0.9818\n",
      "Epoch 9/10\n",
      "1875/1875 [==============================] - 11s 6ms/step - loss: 0.0210 - accuracy: 0.9934 - val_loss: 0.0984 - val_accuracy: 0.9812\n",
      "Epoch 10/10\n",
      "1875/1875 [==============================] - 11s 6ms/step - loss: 0.0180 - accuracy: 0.9944 - val_loss: 0.1114 - val_accuracy: 0.9793\n"
     ]
    }
   ],
   "source": [
    "model2.compile(optimizer='adam',loss=tf.keras.losses.SparseCategoricalCrossentropy(from_logits=True),metrics=['accuracy'])\n",
    "history2 = model2.fit(train_images, train_labels, epochs=10, validation_data=(test_images, test_labels))"
   ]
  },
  {
   "cell_type": "code",
   "execution_count": 55,
   "id": "d37d24e0",
   "metadata": {},
   "outputs": [
    {
     "data": {
      "image/png": "[encoded data removed]",
      "text/plain": [
       "<Figure size 432x288 with 1 Axes>"
      ]
     },
     "metadata": {
      "needs_background": "light"
     },
     "output_type": "display_data"
    }
   ],
   "source": [
    "plot_two(history2.history['accuracy'],history2.history['val_accuracy'],'accuracy','val_accuracy','Epoch', 'Accuracy','lower right',\"2 hidden layer model\")"
   ]
  },
  {
   "cell_type": "code",
   "execution_count": 56,
   "id": "177d97ff",
   "metadata": {},
   "outputs": [
    {
     "name": "stdout",
     "output_type": "stream",
     "text": [
      "313/313 - 1s - loss: 0.1114 - accuracy: 0.9793 - 719ms/epoch - 2ms/step\n",
      "Test accuracy is  0.9793000221252441\n"
     ]
    }
   ],
   "source": [
    "test_loss, test_acc = model2.evaluate(test_images,  test_labels, verbose=2)\n",
    "print(\"Test accuracy is \",test_acc)"
   ]
  },
  {
   "cell_type": "markdown",
   "id": "5cec8e55",
   "metadata": {},
   "source": [
    "# 3 hidden layer"
   ]
  },
  {
   "cell_type": "code",
   "execution_count": 29,
   "id": "9caccde5",
   "metadata": {},
   "outputs": [
    {
     "name": "stdout",
     "output_type": "stream",
     "text": [
      "Model: \"sequential_1\"\n",
      "_________________________________________________________________\n",
      " Layer (type)                Output Shape              Param #   \n",
      "=================================================================\n",
      " flatten_1 (Flatten)         (None, 784)               0         \n",
      "                                                                 \n",
      " dense_3 (Dense)             (None, 512)               401920    \n",
      "                                                                 \n",
      " dense_4 (Dense)             (None, 512)               262656    \n",
      "                                                                 \n",
      " dense_5 (Dense)             (None, 512)               262656    \n",
      "                                                                 \n",
      " dense_6 (Dense)             (None, 10)                5130      \n",
      "                                                                 \n",
      "=================================================================\n",
      "Total params: 932,362\n",
      "Trainable params: 932,362\n",
      "Non-trainable params: 0\n",
      "_________________________________________________________________\n"
     ]
    }
   ],
   "source": [
    "model3 = tf.keras.Sequential()\n",
    "\n",
    "# Input layer\n",
    "model3.add(Flatten(input_shape=(28, 28)))\n",
    "\n",
    "# Hidden layer\n",
    "model3.add(tf.keras.layers.Dense(512, activation='relu'))\n",
    "model3.add(tf.keras.layers.Dense(512, activation='relu'))\n",
    "model3.add(tf.keras.layers.Dense(512, activation='relu'))\n",
    "\n",
    "# Output layer\n",
    "model3.add(Dense(10,activation='softmax'))\n",
    "\n",
    "model3.summary()"
   ]
  },
  {
   "cell_type": "code",
   "execution_count": 32,
   "id": "f913c8bd",
   "metadata": {},
   "outputs": [
    {
     "name": "stdout",
     "output_type": "stream",
     "text": [
      "Epoch 1/10\n",
      "1875/1875 [==============================] - 15s 8ms/step - loss: 0.0291 - accuracy: 0.9927 - val_loss: 0.1332 - val_accuracy: 0.9794\n",
      "Epoch 2/10\n",
      "1875/1875 [==============================] - 15s 8ms/step - loss: 0.0230 - accuracy: 0.9940 - val_loss: 0.1301 - val_accuracy: 0.9782\n",
      "Epoch 3/10\n",
      "1875/1875 [==============================] - 13s 7ms/step - loss: 0.0210 - accuracy: 0.9947 - val_loss: 0.1255 - val_accuracy: 0.9805\n",
      "Epoch 4/10\n",
      "1875/1875 [==============================] - 13s 7ms/step - loss: 0.0232 - accuracy: 0.9940 - val_loss: 0.1237 - val_accuracy: 0.9805\n",
      "Epoch 5/10\n",
      "1875/1875 [==============================] - 13s 7ms/step - loss: 0.0216 - accuracy: 0.9949 - val_loss: 0.1427 - val_accuracy: 0.9798\n",
      "Epoch 6/10\n",
      "1875/1875 [==============================] - 13s 7ms/step - loss: 0.0190 - accuracy: 0.9948 - val_loss: 0.1638 - val_accuracy: 0.9781\n",
      "Epoch 7/10\n",
      "1875/1875 [==============================] - 13s 7ms/step - loss: 0.0174 - accuracy: 0.9959 - val_loss: 0.1351 - val_accuracy: 0.9823\n",
      "Epoch 8/10\n",
      "1875/1875 [==============================] - 13s 7ms/step - loss: 0.0199 - accuracy: 0.9952 - val_loss: 0.1501 - val_accuracy: 0.9825\n",
      "Epoch 9/10\n",
      "1875/1875 [==============================] - 14s 7ms/step - loss: 0.0211 - accuracy: 0.9956 - val_loss: 0.1344 - val_accuracy: 0.9805\n",
      "Epoch 10/10\n",
      "1875/1875 [==============================] - 14s 7ms/step - loss: 0.0174 - accuracy: 0.9959 - val_loss: 0.1557 - val_accuracy: 0.9795\n"
     ]
    }
   ],
   "source": [
    "model3.compile(optimizer='adam',loss=tf.keras.losses.SparseCategoricalCrossentropy(from_logits=True),metrics=['accuracy'])\n",
    "history3 = model3.fit(train_images, train_labels, epochs=10, validation_data=(test_images, test_labels))"
   ]
  },
  {
   "cell_type": "code",
   "execution_count": 33,
   "id": "cdb3e6e9",
   "metadata": {},
   "outputs": [
    {
     "data": {
      "image/png": "[encoded data removed]",
      "text/plain": [
       "<Figure size 432x288 with 1 Axes>"
      ]
     },
     "metadata": {
      "needs_background": "light"
     },
     "output_type": "display_data"
    }
   ],
   "source": [
    "plot_two(history3.history['accuracy'],history3.history['val_accuracy'],'accuracy','val_accuracy','Epoch', 'Accuracy','lower right',\"3 hidden layer model\")"
   ]
  },
  {
   "cell_type": "code",
   "execution_count": 57,
   "id": "a0febd83",
   "metadata": {},
   "outputs": [
    {
     "name": "stdout",
     "output_type": "stream",
     "text": [
      "313/313 - 1s - loss: 0.1557 - accuracy: 0.9795 - 973ms/epoch - 3ms/step\n",
      "Test accuracy is  0.9794999957084656\n"
     ]
    }
   ],
   "source": [
    "test_loss, test_acc = model3.evaluate(test_images,  test_labels, verbose=2)\n",
    "print(\"Test accuracy is \",test_acc)"
   ]
  },
  {
   "cell_type": "markdown",
   "id": "7288f0f2",
   "metadata": {},
   "source": [
    "# Q2 b"
   ]
  },
  {
   "cell_type": "markdown",
   "id": "59fcfe68",
   "metadata": {},
   "source": [
    "Implementing CNNs - Use the same package to implement a CNN model with one\n",
    "layer of convolutions (kernel size of 3 × 3 with a 2-D convolutional layer and having\n",
    "128 filters) followed by two dense layers of 256 neurons."
   ]
  },
  {
   "cell_type": "code",
   "execution_count": 22,
   "id": "4b6d5134",
   "metadata": {},
   "outputs": [],
   "source": [
    "model128 = Sequential()\n",
    "\n",
    "# Hidden layer\n",
    "model128.add(Conv2D(128,(3,3),strides=1,input_shape=(28,28,1)))\n",
    "model128.add(Flatten())\n",
    "model128.add(Dense(256,activation='relu'))\n",
    "model128.add(Dense(256,activation='relu'))\n",
    "\n",
    "# Output layer\n",
    "model128.add(Dense(10,activation='softmax'))"
   ]
  },
  {
   "cell_type": "code",
   "execution_count": 23,
   "id": "65b46551",
   "metadata": {},
   "outputs": [
    {
     "name": "stdout",
     "output_type": "stream",
     "text": [
      "Model: \"sequential\"\n",
      "_________________________________________________________________\n",
      " Layer (type)                Output Shape              Param #   \n",
      "=================================================================\n",
      " conv2d (Conv2D)             (None, 26, 26, 128)       1280      \n",
      "                                                                 \n",
      " flatten (Flatten)           (None, 86528)             0         \n",
      "                                                                 \n",
      " dense (Dense)               (None, 256)               22151424  \n",
      "                                                                 \n",
      " dense_1 (Dense)             (None, 256)               65792     \n",
      "                                                                 \n",
      " dense_2 (Dense)             (None, 10)                2570      \n",
      "                                                                 \n",
      "=================================================================\n",
      "Total params: 22,221,066\n",
      "Trainable params: 22,221,066\n",
      "Non-trainable params: 0\n",
      "_________________________________________________________________\n"
     ]
    }
   ],
   "source": [
    "model128.summary()"
   ]
  },
  {
   "cell_type": "code",
   "execution_count": 24,
   "id": "cdb7c70a",
   "metadata": {},
   "outputs": [
    {
     "name": "stdout",
     "output_type": "stream",
     "text": [
      "Epoch 1/10\n"
     ]
    },
    {
     "name": "stderr",
     "output_type": "stream",
     "text": [
      "C:\\Users\\HP\\anaconda3\\lib\\site-packages\\tensorflow\\python\\util\\dispatch.py:1082: UserWarning: \"`sparse_categorical_crossentropy` received `from_logits=True`, but the `output` argument was produced by a sigmoid or softmax activation and thus does not represent logits. Was this intended?\"\n",
      "  return dispatch_target(*args, **kwargs)\n"
     ]
    },
    {
     "name": "stdout",
     "output_type": "stream",
     "text": [
      "1875/1875 [==============================] - 357s 190ms/step - loss: 0.1954 - accuracy: 0.9406 - val_loss: 0.1410 - val_accuracy: 0.9576\n",
      "Epoch 2/10\n",
      "1875/1875 [==============================] - 357s 190ms/step - loss: 0.0978 - accuracy: 0.9695 - val_loss: 0.0969 - val_accuracy: 0.9705\n",
      "Epoch 3/10\n",
      "1875/1875 [==============================] - 357s 190ms/step - loss: 0.0772 - accuracy: 0.9764 - val_loss: 0.0997 - val_accuracy: 0.9712\n",
      "Epoch 4/10\n",
      "1875/1875 [==============================] - 355s 190ms/step - loss: 0.0642 - accuracy: 0.9808 - val_loss: 0.0999 - val_accuracy: 0.9718\n",
      "Epoch 5/10\n",
      "1875/1875 [==============================] - 337s 180ms/step - loss: 0.0523 - accuracy: 0.9843 - val_loss: 0.1104 - val_accuracy: 0.9709\n",
      "Epoch 6/10\n",
      "1875/1875 [==============================] - 285s 152ms/step - loss: 0.0528 - accuracy: 0.9845 - val_loss: 0.1237 - val_accuracy: 0.9729\n",
      "Epoch 7/10\n",
      "1875/1875 [==============================] - 278s 148ms/step - loss: 0.0443 - accuracy: 0.9874 - val_loss: 0.1356 - val_accuracy: 0.9740\n",
      "Epoch 8/10\n",
      "1875/1875 [==============================] - 284s 152ms/step - loss: 0.0449 - accuracy: 0.9878 - val_loss: 0.1375 - val_accuracy: 0.9715\n",
      "Epoch 9/10\n",
      "1875/1875 [==============================] - 290s 155ms/step - loss: 0.0388 - accuracy: 0.9894 - val_loss: 0.1671 - val_accuracy: 0.9748\n",
      "Epoch 10/10\n",
      "1875/1875 [==============================] - 297s 159ms/step - loss: 0.0364 - accuracy: 0.9900 - val_loss: 0.1652 - val_accuracy: 0.9734\n"
     ]
    }
   ],
   "source": [
    "model128.compile(optimizer='adam',loss=tf.keras.losses.SparseCategoricalCrossentropy(from_logits=True),metrics=['accuracy'])\n",
    "\n",
    "history128 = model128.fit(train_images, train_labels, epochs=10, validation_data=(test_images, test_labels))"
   ]
  },
  {
   "cell_type": "code",
   "execution_count": 27,
   "id": "e99daf67",
   "metadata": {},
   "outputs": [
    {
     "data": {
      "image/png": "[encoded data removed]",
      "text/plain": [
       "<Figure size 432x288 with 1 Axes>"
      ]
     },
     "metadata": {
      "needs_background": "light"
     },
     "output_type": "display_data"
    }
   ],
   "source": [
    "plot_two(history128.history['accuracy'],history128.history['val_accuracy'],'accuracy','val_accuracy','Epoch', 'Accuracy','lower right',\"Convolutional layer model 128 filters\")"
   ]
  },
  {
   "cell_type": "code",
   "execution_count": 28,
   "id": "cb0f47d4",
   "metadata": {},
   "outputs": [
    {
     "name": "stdout",
     "output_type": "stream",
     "text": [
      "313/313 - 6s - loss: 0.1652 - accuracy: 0.9734 - 6s/epoch - 20ms/step\n",
      "Test accuracy is  0.9733999967575073\n"
     ]
    }
   ],
   "source": [
    "test_loss, test_acc = model128.evaluate(test_images,  test_labels, verbose=2)\n",
    "print(\"Test accuracy is \",test_acc)"
   ]
  },
  {
   "cell_type": "markdown",
   "id": "7a9bcc69",
   "metadata": {},
   "source": [
    "# Q2 c"
   ]
  },
  {
   "cell_type": "markdown",
   "id": "0ad1af78",
   "metadata": {},
   "source": [
    "# Variation of Filter size"
   ]
  },
  {
   "cell_type": "markdown",
   "id": "34d19380",
   "metadata": {},
   "source": [
    "# Filter size = 2 X 2"
   ]
  },
  {
   "cell_type": "code",
   "execution_count": 61,
   "id": "19056fb7",
   "metadata": {},
   "outputs": [
    {
     "name": "stdout",
     "output_type": "stream",
     "text": [
      "Model: \"sequential_9\"\n",
      "_________________________________________________________________\n",
      " Layer (type)                Output Shape              Param #   \n",
      "=================================================================\n",
      " conv2d_6 (Conv2D)           (None, 27, 27, 128)       640       \n",
      "                                                                 \n",
      " flatten_9 (Flatten)         (None, 93312)             0         \n",
      "                                                                 \n",
      " dense_28 (Dense)            (None, 256)               23888128  \n",
      "                                                                 \n",
      " dense_29 (Dense)            (None, 256)               65792     \n",
      "                                                                 \n",
      " dense_30 (Dense)            (None, 10)                2570      \n",
      "                                                                 \n",
      "=================================================================\n",
      "Total params: 23,957,130\n",
      "Trainable params: 23,957,130\n",
      "Non-trainable params: 0\n",
      "_________________________________________________________________\n"
     ]
    }
   ],
   "source": [
    "model128_2 = Sequential()\n",
    "\n",
    "# Hidden layer\n",
    "model128_2.add(Conv2D(128,(2,2),strides=1,input_shape=(28,28,1)))\n",
    "model128_2.add(Flatten())\n",
    "model128_2.add(Dense(256,activation='relu'))\n",
    "model128_2.add(Dense(256,activation='relu'))\n",
    "\n",
    "# Output layer\n",
    "model128_2.add(Dense(10,activation='softmax'))\n",
    "\n",
    "model128_2.summary()"
   ]
  },
  {
   "cell_type": "code",
   "execution_count": 62,
   "id": "08351236",
   "metadata": {},
   "outputs": [
    {
     "name": "stdout",
     "output_type": "stream",
     "text": [
      "Epoch 1/10\n"
     ]
    },
    {
     "name": "stderr",
     "output_type": "stream",
     "text": [
      "C:\\Users\\HP\\anaconda3\\lib\\site-packages\\tensorflow\\python\\util\\dispatch.py:1082: UserWarning: \"`sparse_categorical_crossentropy` received `from_logits=True`, but the `output` argument was produced by a sigmoid or softmax activation and thus does not represent logits. Was this intended?\"\n",
      "  return dispatch_target(*args, **kwargs)\n"
     ]
    },
    {
     "name": "stdout",
     "output_type": "stream",
     "text": [
      "1875/1875 [==============================] - 330s 176ms/step - loss: 0.1978 - accuracy: 0.9395 - val_loss: 0.1023 - val_accuracy: 0.9676\n",
      "Epoch 2/10\n",
      "1875/1875 [==============================] - 319s 170ms/step - loss: 0.0975 - accuracy: 0.9694 - val_loss: 0.1126 - val_accuracy: 0.9652\n",
      "Epoch 3/10\n",
      "1875/1875 [==============================] - 2291s 1s/step - loss: 0.0731 - accuracy: 0.9775 - val_loss: 0.1052 - val_accuracy: 0.9690\n",
      "Epoch 4/10\n",
      "1875/1875 [==============================] - 326s 174ms/step - loss: 0.0614 - accuracy: 0.9808 - val_loss: 0.1068 - val_accuracy: 0.9713\n",
      "Epoch 5/10\n",
      "1875/1875 [==============================] - 344s 184ms/step - loss: 0.0459 - accuracy: 0.9859 - val_loss: 0.1175 - val_accuracy: 0.9701\n",
      "Epoch 6/10\n",
      "1875/1875 [==============================] - 341s 182ms/step - loss: 0.0498 - accuracy: 0.9854 - val_loss: 0.1145 - val_accuracy: 0.9748\n",
      "Epoch 7/10\n",
      "1875/1875 [==============================] - 321s 171ms/step - loss: 0.0378 - accuracy: 0.9888 - val_loss: 0.1433 - val_accuracy: 0.9722\n",
      "Epoch 8/10\n",
      "1875/1875 [==============================] - 316s 169ms/step - loss: 0.0414 - accuracy: 0.9885 - val_loss: 0.1379 - val_accuracy: 0.9732\n",
      "Epoch 9/10\n",
      "1875/1875 [==============================] - 322s 172ms/step - loss: 0.0327 - accuracy: 0.9910 - val_loss: 0.1384 - val_accuracy: 0.9767\n",
      "Epoch 10/10\n",
      "1875/1875 [==============================] - 322s 172ms/step - loss: 0.0342 - accuracy: 0.9907 - val_loss: 0.1907 - val_accuracy: 0.9722\n"
     ]
    }
   ],
   "source": [
    "model128_2.compile(optimizer='adam',loss=tf.keras.losses.SparseCategoricalCrossentropy(from_logits=True),metrics=['accuracy'])\n",
    "\n",
    "history128_2 = model128_2.fit(train_images, train_labels, epochs=10, validation_data=(test_images, test_labels))"
   ]
  },
  {
   "cell_type": "code",
   "execution_count": 69,
   "id": "cdb2f5c5",
   "metadata": {},
   "outputs": [
    {
     "data": {
      "image/png": "[encoded data removed]",
      "text/plain": [
       "<Figure size 432x288 with 1 Axes>"
      ]
     },
     "metadata": {
      "needs_background": "light"
     },
     "output_type": "display_data"
    }
   ],
   "source": [
    "plot_two(history128_2.history['accuracy'],history128_2.history['val_accuracy'],'accuracy','val_accuracy','Epoch', 'Accuracy','lower right',\"Convolutional layer model 2 X 2 filter\")"
   ]
  },
  {
   "cell_type": "code",
   "execution_count": 64,
   "id": "32b5d2b1",
   "metadata": {},
   "outputs": [
    {
     "name": "stdout",
     "output_type": "stream",
     "text": [
      "313/313 - 8s - loss: 0.1907 - accuracy: 0.9722 - 8s/epoch - 25ms/step\n",
      "Test accuracy is  0.9721999764442444\n"
     ]
    }
   ],
   "source": [
    "test_loss, test_acc = model128_2.evaluate(test_images,  test_labels, verbose=2)\n",
    "print(\"Test accuracy is \",test_acc)"
   ]
  },
  {
   "cell_type": "markdown",
   "id": "515f2fef",
   "metadata": {},
   "source": [
    "# Filter size = 4 X 4"
   ]
  },
  {
   "cell_type": "code",
   "execution_count": 65,
   "id": "4a3bbf27",
   "metadata": {},
   "outputs": [
    {
     "name": "stdout",
     "output_type": "stream",
     "text": [
      "Model: \"sequential_10\"\n",
      "_________________________________________________________________\n",
      " Layer (type)                Output Shape              Param #   \n",
      "=================================================================\n",
      " conv2d_7 (Conv2D)           (None, 25, 25, 128)       2176      \n",
      "                                                                 \n",
      " flatten_10 (Flatten)        (None, 80000)             0         \n",
      "                                                                 \n",
      " dense_31 (Dense)            (None, 256)               20480256  \n",
      "                                                                 \n",
      " dense_32 (Dense)            (None, 256)               65792     \n",
      "                                                                 \n",
      " dense_33 (Dense)            (None, 10)                2570      \n",
      "                                                                 \n",
      "=================================================================\n",
      "Total params: 20,550,794\n",
      "Trainable params: 20,550,794\n",
      "Non-trainable params: 0\n",
      "_________________________________________________________________\n"
     ]
    }
   ],
   "source": [
    "model128_4 = Sequential()\n",
    "\n",
    "# Hidden layer\n",
    "model128_4.add(Conv2D(128,(4,4),strides=1,input_shape=(28,28,1)))\n",
    "model128_4.add(Flatten())\n",
    "model128_4.add(Dense(256,activation='relu'))\n",
    "model128_4.add(Dense(256,activation='relu'))\n",
    "\n",
    "# Output layer\n",
    "model128_4.add(Dense(10,activation='softmax'))\n",
    "\n",
    "model128_4.summary()"
   ]
  },
  {
   "cell_type": "code",
   "execution_count": 66,
   "id": "a51b942e",
   "metadata": {},
   "outputs": [
    {
     "name": "stdout",
     "output_type": "stream",
     "text": [
      "Epoch 1/10\n",
      "1875/1875 [==============================] - 269s 144ms/step - loss: 0.1938 - accuracy: 0.9413 - val_loss: 0.1012 - val_accuracy: 0.9687\n",
      "Epoch 2/10\n",
      "1875/1875 [==============================] - 269s 143ms/step - loss: 0.1054 - accuracy: 0.9683 - val_loss: 0.1020 - val_accuracy: 0.9683\n",
      "Epoch 3/10\n",
      "1875/1875 [==============================] - 266s 142ms/step - loss: 0.0789 - accuracy: 0.9764 - val_loss: 0.1088 - val_accuracy: 0.9687\n",
      "Epoch 4/10\n",
      "1875/1875 [==============================] - 273s 146ms/step - loss: 0.0714 - accuracy: 0.9790 - val_loss: 0.1004 - val_accuracy: 0.9745\n",
      "Epoch 5/10\n",
      "1875/1875 [==============================] - 272s 145ms/step - loss: 0.0655 - accuracy: 0.9811 - val_loss: 0.1015 - val_accuracy: 0.9736\n",
      "Epoch 6/10\n",
      "1875/1875 [==============================] - 260s 139ms/step - loss: 0.0545 - accuracy: 0.9845 - val_loss: 0.1374 - val_accuracy: 0.9691\n",
      "Epoch 7/10\n",
      "1875/1875 [==============================] - 260s 139ms/step - loss: 0.0515 - accuracy: 0.9855 - val_loss: 0.1225 - val_accuracy: 0.9756\n",
      "Epoch 8/10\n",
      "1875/1875 [==============================] - 288s 153ms/step - loss: 0.0466 - accuracy: 0.9879 - val_loss: 0.1429 - val_accuracy: 0.9708\n",
      "Epoch 9/10\n",
      "1875/1875 [==============================] - 278s 148ms/step - loss: 0.0450 - accuracy: 0.9890 - val_loss: 0.2068 - val_accuracy: 0.9678\n",
      "Epoch 10/10\n",
      "1875/1875 [==============================] - 275s 147ms/step - loss: 0.0448 - accuracy: 0.9887 - val_loss: 0.1786 - val_accuracy: 0.9705\n"
     ]
    }
   ],
   "source": [
    "model128_4.compile(optimizer='adam',loss=tf.keras.losses.SparseCategoricalCrossentropy(from_logits=True),metrics=['accuracy'])\n",
    "\n",
    "history128_4 = model128_4.fit(train_images, train_labels, epochs=10, validation_data=(test_images, test_labels))"
   ]
  },
  {
   "cell_type": "code",
   "execution_count": 70,
   "id": "06998a22",
   "metadata": {},
   "outputs": [
    {
     "data": {
      "image/png": "[encoded data removed]",
      "text/plain": [
       "<Figure size 432x288 with 1 Axes>"
      ]
     },
     "metadata": {
      "needs_background": "light"
     },
     "output_type": "display_data"
    }
   ],
   "source": [
    "plot_two(history128_4.history['accuracy'],history128_4.history['val_accuracy'],'accuracy','val_accuracy','Epoch', 'Accuracy','lower right',\"Convolutional layer model 4 X 4 filter\")"
   ]
  },
  {
   "cell_type": "code",
   "execution_count": 68,
   "id": "fec83845",
   "metadata": {},
   "outputs": [
    {
     "name": "stdout",
     "output_type": "stream",
     "text": [
      "313/313 - 7s - loss: 0.1786 - accuracy: 0.9705 - 7s/epoch - 22ms/step\n",
      "Test accuracy is  0.9704999923706055\n"
     ]
    }
   ],
   "source": [
    "test_loss, test_acc = model128_4.evaluate(test_images,  test_labels, verbose=2)\n",
    "print(\"Test accuracy is \",test_acc)"
   ]
  },
  {
   "cell_type": "markdown",
   "id": "b10f94aa",
   "metadata": {},
   "source": [
    "# Variation of number of filter "
   ]
  },
  {
   "cell_type": "markdown",
   "id": "cfbc1db9",
   "metadata": {},
   "source": [
    "# Number of filters = 64"
   ]
  },
  {
   "cell_type": "code",
   "execution_count": 68,
   "id": "24da5230",
   "metadata": {},
   "outputs": [
    {
     "name": "stdout",
     "output_type": "stream",
     "text": [
      "Model: \"sequential_4\"\n",
      "_________________________________________________________________\n",
      " Layer (type)                Output Shape              Param #   \n",
      "=================================================================\n",
      " conv2d_1 (Conv2D)           (None, 26, 26, 64)        640       \n",
      "                                                                 \n",
      " flatten_4 (Flatten)         (None, 43264)             0         \n",
      "                                                                 \n",
      " dense_13 (Dense)            (None, 256)               11075840  \n",
      "                                                                 \n",
      " dense_14 (Dense)            (None, 256)               65792     \n",
      "                                                                 \n",
      " dense_15 (Dense)            (None, 10)                2570      \n",
      "                                                                 \n",
      "=================================================================\n",
      "Total params: 11,144,842\n",
      "Trainable params: 11,144,842\n",
      "Non-trainable params: 0\n",
      "_________________________________________________________________\n"
     ]
    }
   ],
   "source": [
    "model64 = Sequential()\n",
    "\n",
    "# Hidden layer\n",
    "model64.add(Conv2D(64,(3,3),strides=1,input_shape=(28,28,1)))\n",
    "model64.add(Flatten())\n",
    "model64.add(Dense(256,activation='relu'))\n",
    "model64.add(Dense(256,activation='relu'))\n",
    "\n",
    "# Output layer\n",
    "model64.add(Dense(10,activation='softmax'))\n",
    "\n",
    "model64.summary()"
   ]
  },
  {
   "cell_type": "code",
   "execution_count": 72,
   "id": "2130f838",
   "metadata": {},
   "outputs": [
    {
     "name": "stdout",
     "output_type": "stream",
     "text": [
      "Epoch 1/10\n",
      "1875/1875 [==============================] - 149s 79ms/step - loss: 0.1883 - accuracy: 0.9424 - val_loss: 0.1052 - val_accuracy: 0.9661\n",
      "Epoch 2/10\n",
      "1875/1875 [==============================] - 148s 79ms/step - loss: 0.0892 - accuracy: 0.9716 - val_loss: 0.0963 - val_accuracy: 0.9734\n",
      "Epoch 3/10\n",
      "1875/1875 [==============================] - 148s 79ms/step - loss: 0.0678 - accuracy: 0.9788 - val_loss: 0.1135 - val_accuracy: 0.9682\n",
      "Epoch 4/10\n",
      "1875/1875 [==============================] - 142s 76ms/step - loss: 0.0502 - accuracy: 0.9846 - val_loss: 0.0943 - val_accuracy: 0.9737\n",
      "Epoch 5/10\n",
      "1875/1875 [==============================] - 137s 73ms/step - loss: 0.0469 - accuracy: 0.9851 - val_loss: 0.1041 - val_accuracy: 0.9748\n",
      "Epoch 6/10\n",
      "1875/1875 [==============================] - 179s 95ms/step - loss: 0.0400 - accuracy: 0.9883 - val_loss: 0.1378 - val_accuracy: 0.9691\n",
      "Epoch 7/10\n",
      "1875/1875 [==============================] - 172s 92ms/step - loss: 0.0342 - accuracy: 0.9900 - val_loss: 0.1570 - val_accuracy: 0.9712\n",
      "Epoch 8/10\n",
      "1875/1875 [==============================] - 146s 78ms/step - loss: 0.0354 - accuracy: 0.9899 - val_loss: 0.1227 - val_accuracy: 0.9744\n",
      "Epoch 9/10\n",
      "1875/1875 [==============================] - 170s 91ms/step - loss: 0.0305 - accuracy: 0.9913 - val_loss: 0.1305 - val_accuracy: 0.9772\n",
      "Epoch 10/10\n",
      "1875/1875 [==============================] - 174s 93ms/step - loss: 0.0335 - accuracy: 0.9916 - val_loss: 0.1709 - val_accuracy: 0.9729\n"
     ]
    }
   ],
   "source": [
    "model64.compile(optimizer='adam',loss=tf.keras.losses.SparseCategoricalCrossentropy(from_logits=True),metrics=['accuracy'])\n",
    "\n",
    "history64 = model64.fit(train_images, train_labels, epochs=10, validation_data=(test_images, test_labels))"
   ]
  },
  {
   "cell_type": "code",
   "execution_count": 73,
   "id": "37cf98d1",
   "metadata": {},
   "outputs": [
    {
     "data": {
      "image/png": "[encoded data removed]",
      "text/plain": [
       "<Figure size 432x288 with 1 Axes>"
      ]
     },
     "metadata": {
      "needs_background": "light"
     },
     "output_type": "display_data"
    }
   ],
   "source": [
    "plot_two(history64.history['accuracy'],history64.history['val_accuracy'],'accuracy','val_accuracy','Epoch', 'Accuracy','lower right',\"Convolutional layer model 64 filters\")"
   ]
  },
  {
   "cell_type": "code",
   "execution_count": 74,
   "id": "46262f16",
   "metadata": {},
   "outputs": [
    {
     "name": "stdout",
     "output_type": "stream",
     "text": [
      "313/313 - 6s - loss: 0.1709 - accuracy: 0.9729 - 6s/epoch - 18ms/step\n",
      "Test accuracy is  0.9728999733924866\n"
     ]
    }
   ],
   "source": [
    "test_loss, test_acc = model64.evaluate(test_images,  test_labels, verbose=2)\n",
    "print(\"Test accuracy is \",test_acc)"
   ]
  },
  {
   "cell_type": "markdown",
   "id": "7d98c90e",
   "metadata": {},
   "source": [
    "# Number of filters = 32"
   ]
  },
  {
   "cell_type": "code",
   "execution_count": 75,
   "id": "bd9d74ea",
   "metadata": {},
   "outputs": [
    {
     "name": "stdout",
     "output_type": "stream",
     "text": [
      "Model: \"sequential_5\"\n",
      "_________________________________________________________________\n",
      " Layer (type)                Output Shape              Param #   \n",
      "=================================================================\n",
      " conv2d_2 (Conv2D)           (None, 26, 26, 32)        320       \n",
      "                                                                 \n",
      " flatten_5 (Flatten)         (None, 21632)             0         \n",
      "                                                                 \n",
      " dense_16 (Dense)            (None, 256)               5538048   \n",
      "                                                                 \n",
      " dense_17 (Dense)            (None, 256)               65792     \n",
      "                                                                 \n",
      " dense_18 (Dense)            (None, 10)                2570      \n",
      "                                                                 \n",
      "=================================================================\n",
      "Total params: 5,606,730\n",
      "Trainable params: 5,606,730\n",
      "Non-trainable params: 0\n",
      "_________________________________________________________________\n"
     ]
    }
   ],
   "source": [
    "model32 = Sequential()\n",
    "\n",
    "# Hidden layer\n",
    "model32.add(Conv2D(32,(3,3),strides=1,input_shape=(28,28,1)))\n",
    "model32.add(Flatten())\n",
    "model32.add(Dense(256,activation='relu'))\n",
    "model32.add(Dense(256,activation='relu'))\n",
    "\n",
    "# Output layer\n",
    "model32.add(Dense(10,activation='softmax'))\n",
    "\n",
    "model32.summary()"
   ]
  },
  {
   "cell_type": "code",
   "execution_count": 80,
   "id": "9e51513a",
   "metadata": {},
   "outputs": [
    {
     "name": "stdout",
     "output_type": "stream",
     "text": [
      "Epoch 1/10\n",
      "1875/1875 [==============================] - 68s 36ms/step - loss: 0.1861 - accuracy: 0.9436 - val_loss: 0.1177 - val_accuracy: 0.9632\n",
      "Epoch 2/10\n",
      "1875/1875 [==============================] - 74s 39ms/step - loss: 0.0828 - accuracy: 0.9741 - val_loss: 0.0991 - val_accuracy: 0.9710\n",
      "Epoch 3/10\n",
      "1875/1875 [==============================] - 67s 36ms/step - loss: 0.0592 - accuracy: 0.9812 - val_loss: 0.0870 - val_accuracy: 0.9732\n",
      "Epoch 4/10\n",
      "1875/1875 [==============================] - 67s 36ms/step - loss: 0.0431 - accuracy: 0.9863 - val_loss: 0.1122 - val_accuracy: 0.9725\n",
      "Epoch 5/10\n",
      "1875/1875 [==============================] - 66s 35ms/step - loss: 0.0381 - accuracy: 0.9877 - val_loss: 0.1028 - val_accuracy: 0.9755\n",
      "Epoch 6/10\n",
      "1875/1875 [==============================] - 65s 35ms/step - loss: 0.0314 - accuracy: 0.9903 - val_loss: 0.0970 - val_accuracy: 0.9774\n",
      "Epoch 7/10\n",
      "1875/1875 [==============================] - 66s 35ms/step - loss: 0.0297 - accuracy: 0.9908 - val_loss: 0.1106 - val_accuracy: 0.9781\n",
      "Epoch 8/10\n",
      "1875/1875 [==============================] - 67s 36ms/step - loss: 0.0240 - accuracy: 0.9931 - val_loss: 0.1449 - val_accuracy: 0.9746\n",
      "Epoch 9/10\n",
      "1875/1875 [==============================] - 67s 36ms/step - loss: 0.0241 - accuracy: 0.9929 - val_loss: 0.1447 - val_accuracy: 0.9759\n",
      "Epoch 10/10\n",
      "1875/1875 [==============================] - 81s 43ms/step - loss: 0.0213 - accuracy: 0.9935 - val_loss: 0.1456 - val_accuracy: 0.9765\n"
     ]
    }
   ],
   "source": [
    "model32.compile(optimizer='adam',loss=tf.keras.losses.SparseCategoricalCrossentropy(from_logits=True),metrics=['accuracy'])\n",
    "\n",
    "history32 = model32.fit(train_images, train_labels, epochs=10, validation_data=(test_images, test_labels))"
   ]
  },
  {
   "cell_type": "code",
   "execution_count": 81,
   "id": "4f2a4401",
   "metadata": {},
   "outputs": [
    {
     "data": {
      "image/png": "[encoded data removed]",
      "text/plain": [
       "<Figure size 432x288 with 1 Axes>"
      ]
     },
     "metadata": {
      "needs_background": "light"
     },
     "output_type": "display_data"
    }
   ],
   "source": [
    "plot_two(history32.history['accuracy'],history32.history['val_accuracy'],'accuracy','val_accuracy','Epoch', 'Accuracy','lower right',\"Convolutional layer model 32 filters\")"
   ]
  },
  {
   "cell_type": "code",
   "execution_count": 82,
   "id": "4e4b7e61",
   "metadata": {},
   "outputs": [
    {
     "name": "stdout",
     "output_type": "stream",
     "text": [
      "313/313 - 2s - loss: 0.1456 - accuracy: 0.9765 - 2s/epoch - 6ms/step\n",
      "Test accuracy is  0.9764999747276306\n"
     ]
    }
   ],
   "source": [
    "test_loss, test_acc = model32.evaluate(test_images,  test_labels, verbose=2)\n",
    "print(\"Test accuracy is \",test_acc)"
   ]
  },
  {
   "cell_type": "markdown",
   "id": "22620e89",
   "metadata": {},
   "source": [
    "# Number of filters = 16"
   ]
  },
  {
   "cell_type": "code",
   "execution_count": 76,
   "id": "6ebce6b6",
   "metadata": {},
   "outputs": [
    {
     "name": "stdout",
     "output_type": "stream",
     "text": [
      "Model: \"sequential_6\"\n",
      "_________________________________________________________________\n",
      " Layer (type)                Output Shape              Param #   \n",
      "=================================================================\n",
      " conv2d_3 (Conv2D)           (None, 26, 26, 16)        160       \n",
      "                                                                 \n",
      " flatten_6 (Flatten)         (None, 10816)             0         \n",
      "                                                                 \n",
      " dense_19 (Dense)            (None, 256)               2769152   \n",
      "                                                                 \n",
      " dense_20 (Dense)            (None, 256)               65792     \n",
      "                                                                 \n",
      " dense_21 (Dense)            (None, 10)                2570      \n",
      "                                                                 \n",
      "=================================================================\n",
      "Total params: 2,837,674\n",
      "Trainable params: 2,837,674\n",
      "Non-trainable params: 0\n",
      "_________________________________________________________________\n"
     ]
    }
   ],
   "source": [
    "model16 = Sequential()\n",
    "\n",
    "# Hidden layer\n",
    "model16.add(Conv2D(16,(3,3),strides=1,input_shape=(28,28,1)))\n",
    "model16.add(Flatten())\n",
    "model16.add(Dense(256,activation='relu'))\n",
    "model16.add(Dense(256,activation='relu'))\n",
    "\n",
    "# Output layer\n",
    "model16.add(Dense(10,activation='softmax'))\n",
    "\n",
    "model16.summary()"
   ]
  },
  {
   "cell_type": "code",
   "execution_count": 77,
   "id": "5903110e",
   "metadata": {},
   "outputs": [
    {
     "name": "stdout",
     "output_type": "stream",
     "text": [
      "Epoch 1/10\n",
      "1875/1875 [==============================] - 50s 26ms/step - loss: 0.1830 - accuracy: 0.9440 - val_loss: 0.1012 - val_accuracy: 0.9697\n",
      "Epoch 2/10\n",
      "1875/1875 [==============================] - 48s 26ms/step - loss: 0.0846 - accuracy: 0.9735 - val_loss: 0.0805 - val_accuracy: 0.9759\n",
      "Epoch 3/10\n",
      "1875/1875 [==============================] - 51s 27ms/step - loss: 0.0564 - accuracy: 0.9822 - val_loss: 0.0916 - val_accuracy: 0.9720\n",
      "Epoch 4/10\n",
      "1875/1875 [==============================] - 50s 27ms/step - loss: 0.0411 - accuracy: 0.9867 - val_loss: 0.0864 - val_accuracy: 0.9749\n",
      "Epoch 5/10\n",
      "1875/1875 [==============================] - 49s 26ms/step - loss: 0.0310 - accuracy: 0.9896 - val_loss: 0.1102 - val_accuracy: 0.9735\n",
      "Epoch 6/10\n",
      "1875/1875 [==============================] - 49s 26ms/step - loss: 0.0288 - accuracy: 0.9905 - val_loss: 0.1020 - val_accuracy: 0.9793\n",
      "Epoch 7/10\n",
      "1875/1875 [==============================] - 40s 21ms/step - loss: 0.0238 - accuracy: 0.9926 - val_loss: 0.1097 - val_accuracy: 0.9779\n",
      "Epoch 8/10\n",
      "1875/1875 [==============================] - 36s 19ms/step - loss: 0.0216 - accuracy: 0.9933 - val_loss: 0.1014 - val_accuracy: 0.9781\n",
      "Epoch 9/10\n",
      "1875/1875 [==============================] - 34s 18ms/step - loss: 0.0177 - accuracy: 0.9949 - val_loss: 0.1205 - val_accuracy: 0.9777\n",
      "Epoch 10/10\n",
      "1875/1875 [==============================] - 42s 22ms/step - loss: 0.0182 - accuracy: 0.9946 - val_loss: 0.1195 - val_accuracy: 0.9778\n"
     ]
    }
   ],
   "source": [
    "model16.compile(optimizer='adam',loss=tf.keras.losses.SparseCategoricalCrossentropy(from_logits=True),metrics=['accuracy'])\n",
    "\n",
    "history16 = model16.fit(train_images, train_labels, epochs=10, validation_data=(test_images, test_labels))"
   ]
  },
  {
   "cell_type": "code",
   "execution_count": 78,
   "id": "be7283ae",
   "metadata": {},
   "outputs": [
    {
     "data": {
      "image/png": "[encoded data removed]",
      "text/plain": [
       "<Figure size 432x288 with 1 Axes>"
      ]
     },
     "metadata": {
      "needs_background": "light"
     },
     "output_type": "display_data"
    }
   ],
   "source": [
    "plot_two(history16.history['accuracy'],history16.history['val_accuracy'],'accuracy','val_accuracy','Epoch', 'Accuracy','lower right',\"Convolutional layer model 16 filters\")"
   ]
  },
  {
   "cell_type": "code",
   "execution_count": 79,
   "id": "a86d9112",
   "metadata": {},
   "outputs": [
    {
     "name": "stdout",
     "output_type": "stream",
     "text": [
      "313/313 - 1s - loss: 0.1195 - accuracy: 0.9778 - 1s/epoch - 3ms/step\n",
      "Test accuracy is  0.9778000116348267\n"
     ]
    }
   ],
   "source": [
    "test_loss, test_acc = model16.evaluate(test_images,  test_labels, verbose=2)\n",
    "print(\"Test accuracy is \",test_acc)"
   ]
  },
  {
   "cell_type": "markdown",
   "id": "b731a8f3",
   "metadata": {},
   "source": [
    "# Variation of hidden layer dimension"
   ]
  },
  {
   "cell_type": "markdown",
   "id": "31484801",
   "metadata": {},
   "source": [
    "# Hidden layer dimension = 128"
   ]
  },
  {
   "cell_type": "code",
   "execution_count": 38,
   "id": "589994c8",
   "metadata": {},
   "outputs": [
    {
     "name": "stdout",
     "output_type": "stream",
     "text": [
      "Model: \"sequential_3\"\n",
      "_________________________________________________________________\n",
      " Layer (type)                Output Shape              Param #   \n",
      "=================================================================\n",
      " conv2d_1 (Conv2D)           (None, 26, 26, 128)       1280      \n",
      "                                                                 \n",
      " flatten_3 (Flatten)         (None, 86528)             0         \n",
      "                                                                 \n",
      " dense_10 (Dense)            (None, 128)               11075712  \n",
      "                                                                 \n",
      " dense_11 (Dense)            (None, 128)               16512     \n",
      "                                                                 \n",
      " dense_12 (Dense)            (None, 10)                1290      \n",
      "                                                                 \n",
      "=================================================================\n",
      "Total params: 11,094,794\n",
      "Trainable params: 11,094,794\n",
      "Non-trainable params: 0\n",
      "_________________________________________________________________\n"
     ]
    }
   ],
   "source": [
    "model_128 = Sequential()\n",
    "\n",
    "# Hidden layer\n",
    "model_128.add(Conv2D(128,(3,3),strides=1,input_shape=(28,28,1)))\n",
    "model_128.add(Flatten())\n",
    "model_128.add(Dense(128,activation='relu'))\n",
    "model_128.add(Dense(128,activation='relu'))\n",
    "\n",
    "# Output layer\n",
    "model_128.add(Dense(10,activation='softmax'))\n",
    "\n",
    "model_128.summary()"
   ]
  },
  {
   "cell_type": "code",
   "execution_count": 39,
   "id": "677da687",
   "metadata": {},
   "outputs": [
    {
     "name": "stdout",
     "output_type": "stream",
     "text": [
      "Epoch 1/10\n",
      "1875/1875 [==============================] - 141s 75ms/step - loss: 0.2091 - accuracy: 0.9366 - val_loss: 0.1221 - val_accuracy: 0.9643\n",
      "Epoch 2/10\n",
      "1875/1875 [==============================] - 145s 78ms/step - loss: 0.1040 - accuracy: 0.9688 - val_loss: 0.1003 - val_accuracy: 0.9690\n",
      "Epoch 3/10\n",
      "1875/1875 [==============================] - 138s 73ms/step - loss: 0.0840 - accuracy: 0.9738 - val_loss: 0.1096 - val_accuracy: 0.9680\n",
      "Epoch 4/10\n",
      "1875/1875 [==============================] - 142s 76ms/step - loss: 0.0647 - accuracy: 0.9801 - val_loss: 0.1072 - val_accuracy: 0.9693\n",
      "Epoch 5/10\n",
      "1875/1875 [==============================] - 150s 80ms/step - loss: 0.0564 - accuracy: 0.9822 - val_loss: 0.0981 - val_accuracy: 0.9738\n",
      "Epoch 6/10\n",
      "1875/1875 [==============================] - 148s 79ms/step - loss: 0.0461 - accuracy: 0.9851 - val_loss: 0.1426 - val_accuracy: 0.9687\n",
      "Epoch 7/10\n",
      "1875/1875 [==============================] - 149s 79ms/step - loss: 0.0454 - accuracy: 0.9864 - val_loss: 0.1264 - val_accuracy: 0.9722\n",
      "Epoch 8/10\n",
      "1875/1875 [==============================] - 148s 79ms/step - loss: 0.0376 - accuracy: 0.9886 - val_loss: 0.1517 - val_accuracy: 0.9678\n",
      "Epoch 9/10\n",
      "1875/1875 [==============================] - 149s 79ms/step - loss: 0.0401 - accuracy: 0.9886 - val_loss: 0.1451 - val_accuracy: 0.9702\n",
      "Epoch 10/10\n",
      "1875/1875 [==============================] - 148s 79ms/step - loss: 0.0351 - accuracy: 0.9902 - val_loss: 0.1573 - val_accuracy: 0.9709\n"
     ]
    }
   ],
   "source": [
    "model_128.compile(optimizer='adam',loss=tf.keras.losses.SparseCategoricalCrossentropy(from_logits=True),metrics=['accuracy'])\n",
    "\n",
    "history_128 = model_128.fit(train_images, train_labels, epochs=10, validation_data=(test_images, test_labels))"
   ]
  },
  {
   "cell_type": "code",
   "execution_count": 40,
   "id": "f6a93bc7",
   "metadata": {},
   "outputs": [
    {
     "data": {
      "image/png": "[encoded data removed]",
      "text/plain": [
       "<Figure size 432x288 with 1 Axes>"
      ]
     },
     "metadata": {
      "needs_background": "light"
     },
     "output_type": "display_data"
    }
   ],
   "source": [
    "plot_two(history_128.history['accuracy'],history_128.history['val_accuracy'],'accuracy','val_accuracy','Epoch', 'Accuracy','lower right',\"Convolutional layer model with 128 neurons at hidden layer \")"
   ]
  },
  {
   "cell_type": "code",
   "execution_count": 41,
   "id": "51ac6428",
   "metadata": {},
   "outputs": [
    {
     "name": "stdout",
     "output_type": "stream",
     "text": [
      "313/313 - 4s - loss: 0.1573 - accuracy: 0.9709 - 4s/epoch - 14ms/step\n",
      "Test accuracy is  0.9708999991416931\n"
     ]
    }
   ],
   "source": [
    "test_loss, test_acc = model_128.evaluate(test_images,  test_labels, verbose=2)\n",
    "print(\"Test accuracy is \",test_acc)"
   ]
  },
  {
   "cell_type": "markdown",
   "id": "0dd97ea6",
   "metadata": {},
   "source": [
    "# Hidden layer dimension = 64"
   ]
  },
  {
   "cell_type": "code",
   "execution_count": 43,
   "id": "34136680",
   "metadata": {},
   "outputs": [
    {
     "name": "stdout",
     "output_type": "stream",
     "text": [
      "Model: \"sequential_5\"\n",
      "_________________________________________________________________\n",
      " Layer (type)                Output Shape              Param #   \n",
      "=================================================================\n",
      " conv2d_3 (Conv2D)           (None, 26, 26, 128)       1280      \n",
      "                                                                 \n",
      " flatten_5 (Flatten)         (None, 86528)             0         \n",
      "                                                                 \n",
      " dense_16 (Dense)            (None, 64)                5537856   \n",
      "                                                                 \n",
      " dense_17 (Dense)            (None, 64)                4160      \n",
      "                                                                 \n",
      " dense_18 (Dense)            (None, 10)                650       \n",
      "                                                                 \n",
      "=================================================================\n",
      "Total params: 5,543,946\n",
      "Trainable params: 5,543,946\n",
      "Non-trainable params: 0\n",
      "_________________________________________________________________\n"
     ]
    }
   ],
   "source": [
    "model_64 = Sequential()\n",
    "\n",
    "# Hidden layer\n",
    "model_64.add(Conv2D(128,(3,3),strides=1,input_shape=(28,28,1)))\n",
    "model_64.add(Flatten())\n",
    "model_64.add(Dense(64,activation='relu'))\n",
    "model_64.add(Dense(64,activation='relu'))\n",
    "\n",
    "# Output layer\n",
    "model_64.add(Dense(10,activation='softmax'))\n",
    "\n",
    "model_64.summary()"
   ]
  },
  {
   "cell_type": "code",
   "execution_count": 44,
   "id": "4c462887",
   "metadata": {},
   "outputs": [
    {
     "name": "stdout",
     "output_type": "stream",
     "text": [
      "Epoch 1/10\n",
      "1875/1875 [==============================] - 80s 43ms/step - loss: 0.2202 - accuracy: 0.9337 - val_loss: 0.1334 - val_accuracy: 0.9595\n",
      "Epoch 2/10\n",
      "1875/1875 [==============================] - 78s 42ms/step - loss: 0.1219 - accuracy: 0.9625 - val_loss: 0.1180 - val_accuracy: 0.9628\n",
      "Epoch 3/10\n",
      "1875/1875 [==============================] - 78s 41ms/step - loss: 0.0958 - accuracy: 0.9708 - val_loss: 0.1368 - val_accuracy: 0.9615\n",
      "Epoch 4/10\n",
      "1875/1875 [==============================] - 78s 42ms/step - loss: 0.0831 - accuracy: 0.9742 - val_loss: 0.1280 - val_accuracy: 0.9635\n",
      "Epoch 5/10\n",
      "1875/1875 [==============================] - 80s 42ms/step - loss: 0.0672 - accuracy: 0.9786 - val_loss: 0.1350 - val_accuracy: 0.9626\n",
      "Epoch 6/10\n",
      "1875/1875 [==============================] - 77s 41ms/step - loss: 0.0589 - accuracy: 0.9811 - val_loss: 0.1361 - val_accuracy: 0.9637\n",
      "Epoch 7/10\n",
      "1875/1875 [==============================] - 78s 42ms/step - loss: 0.0557 - accuracy: 0.9825 - val_loss: 0.1339 - val_accuracy: 0.9666\n",
      "Epoch 8/10\n",
      "1875/1875 [==============================] - 77s 41ms/step - loss: 0.0460 - accuracy: 0.9856 - val_loss: 0.1211 - val_accuracy: 0.9721\n",
      "Epoch 9/10\n",
      "1875/1875 [==============================] - 79s 42ms/step - loss: 0.0424 - accuracy: 0.9863 - val_loss: 0.1505 - val_accuracy: 0.9679\n",
      "Epoch 10/10\n",
      "1875/1875 [==============================] - 81s 43ms/step - loss: 0.0409 - accuracy: 0.9874 - val_loss: 0.1644 - val_accuracy: 0.9667\n"
     ]
    }
   ],
   "source": [
    "model_64.compile(optimizer='adam',loss=tf.keras.losses.SparseCategoricalCrossentropy(from_logits=True),metrics=['accuracy'])\n",
    "\n",
    "history_64 = model_64.fit(train_images, train_labels, epochs=10, validation_data=(test_images, test_labels))"
   ]
  },
  {
   "cell_type": "code",
   "execution_count": 45,
   "id": "2b72dcf0",
   "metadata": {},
   "outputs": [
    {
     "data": {
      "image/png": "[encoded data removed]",
      "text/plain": [
       "<Figure size 432x288 with 1 Axes>"
      ]
     },
     "metadata": {
      "needs_background": "light"
     },
     "output_type": "display_data"
    }
   ],
   "source": [
    "plot_two(history_64.history['accuracy'],history_64.history['val_accuracy'],'accuracy','val_accuracy','Epoch', 'Accuracy','lower right',\"Convolutional layer model with 64 neurons at hidden layer \")"
   ]
  },
  {
   "cell_type": "code",
   "execution_count": 46,
   "id": "190f6964",
   "metadata": {},
   "outputs": [
    {
     "name": "stdout",
     "output_type": "stream",
     "text": [
      "313/313 - 3s - loss: 0.1644 - accuracy: 0.9667 - 3s/epoch - 9ms/step\n",
      "Test accuracy is  0.96670001745224\n"
     ]
    }
   ],
   "source": [
    "test_loss, test_acc = model_64.evaluate(test_images,  test_labels, verbose=2)\n",
    "print(\"Test accuracy is \",test_acc)"
   ]
  },
  {
   "cell_type": "markdown",
   "id": "e758fafd",
   "metadata": {},
   "source": [
    "# Hidden layer dimension = 32"
   ]
  },
  {
   "cell_type": "code",
   "execution_count": 47,
   "id": "2a61c6f3",
   "metadata": {},
   "outputs": [
    {
     "name": "stdout",
     "output_type": "stream",
     "text": [
      "Model: \"sequential_6\"\n",
      "_________________________________________________________________\n",
      " Layer (type)                Output Shape              Param #   \n",
      "=================================================================\n",
      " conv2d_4 (Conv2D)           (None, 26, 26, 128)       1280      \n",
      "                                                                 \n",
      " flatten_6 (Flatten)         (None, 86528)             0         \n",
      "                                                                 \n",
      " dense_19 (Dense)            (None, 32)                2768928   \n",
      "                                                                 \n",
      " dense_20 (Dense)            (None, 32)                1056      \n",
      "                                                                 \n",
      " dense_21 (Dense)            (None, 10)                330       \n",
      "                                                                 \n",
      "=================================================================\n",
      "Total params: 2,771,594\n",
      "Trainable params: 2,771,594\n",
      "Non-trainable params: 0\n",
      "_________________________________________________________________\n"
     ]
    }
   ],
   "source": [
    "model_32 = Sequential()\n",
    "\n",
    "# Hidden layer\n",
    "model_32.add(Conv2D(128,(3,3),strides=1,input_shape=(28,28,1)))\n",
    "model_32.add(Flatten())\n",
    "model_32.add(Dense(32,activation='relu'))\n",
    "model_32.add(Dense(32,activation='relu'))\n",
    "\n",
    "# Output layer\n",
    "model_32.add(Dense(10,activation='softmax'))\n",
    "\n",
    "model_32.summary()"
   ]
  },
  {
   "cell_type": "code",
   "execution_count": 48,
   "id": "3805b814",
   "metadata": {},
   "outputs": [
    {
     "name": "stdout",
     "output_type": "stream",
     "text": [
      "Epoch 1/10\n",
      "1875/1875 [==============================] - 51s 27ms/step - loss: 0.2807 - accuracy: 0.9156 - val_loss: 0.1858 - val_accuracy: 0.9455\n",
      "Epoch 2/10\n",
      "1875/1875 [==============================] - 48s 26ms/step - loss: 0.1679 - accuracy: 0.9497 - val_loss: 0.1438 - val_accuracy: 0.9593\n",
      "Epoch 3/10\n",
      "1875/1875 [==============================] - 52s 28ms/step - loss: 0.1353 - accuracy: 0.9600 - val_loss: 0.1593 - val_accuracy: 0.9519\n",
      "Epoch 4/10\n",
      "1875/1875 [==============================] - 51s 27ms/step - loss: 0.1176 - accuracy: 0.9639 - val_loss: 0.1378 - val_accuracy: 0.9600\n",
      "Epoch 5/10\n",
      "1875/1875 [==============================] - 50s 27ms/step - loss: 0.1053 - accuracy: 0.9675 - val_loss: 0.1411 - val_accuracy: 0.9588\n",
      "Epoch 6/10\n",
      "1875/1875 [==============================] - 48s 25ms/step - loss: 0.0953 - accuracy: 0.9707 - val_loss: 0.1491 - val_accuracy: 0.9606\n",
      "Epoch 7/10\n",
      "1875/1875 [==============================] - 49s 26ms/step - loss: 0.0850 - accuracy: 0.9736 - val_loss: 0.1500 - val_accuracy: 0.9614\n",
      "Epoch 8/10\n",
      "1875/1875 [==============================] - 49s 26ms/step - loss: 0.0791 - accuracy: 0.9756 - val_loss: 0.1376 - val_accuracy: 0.9621\n",
      "Epoch 9/10\n",
      "1875/1875 [==============================] - 49s 26ms/step - loss: 0.0713 - accuracy: 0.9779 - val_loss: 0.1508 - val_accuracy: 0.9614\n",
      "Epoch 10/10\n",
      "1875/1875 [==============================] - 49s 26ms/step - loss: 0.0638 - accuracy: 0.9800 - val_loss: 0.1597 - val_accuracy: 0.9592\n"
     ]
    }
   ],
   "source": [
    "model_32.compile(optimizer='adam',loss=tf.keras.losses.SparseCategoricalCrossentropy(from_logits=True),metrics=['accuracy'])\n",
    "\n",
    "history_32 = model_32.fit(train_images, train_labels, epochs=10, validation_data=(test_images, test_labels))"
   ]
  },
  {
   "cell_type": "code",
   "execution_count": 49,
   "id": "ac6d6ba1",
   "metadata": {},
   "outputs": [
    {
     "data": {
      "image/png": "[encoded data removed]",
      "text/plain": [
       "<Figure size 432x288 with 1 Axes>"
      ]
     },
     "metadata": {
      "needs_background": "light"
     },
     "output_type": "display_data"
    }
   ],
   "source": [
    "plot_two(history_32.history['accuracy'],history_32.history['val_accuracy'],'accuracy','val_accuracy','Epoch', 'Accuracy','lower right',\"Convolutional layer model with 32 neurons at hidden layer \")"
   ]
  },
  {
   "cell_type": "code",
   "execution_count": 50,
   "id": "62009929",
   "metadata": {},
   "outputs": [
    {
     "name": "stdout",
     "output_type": "stream",
     "text": [
      "313/313 - 2s - loss: 0.1597 - accuracy: 0.9592 - 2s/epoch - 7ms/step\n",
      "Test accuracy is  0.9592000246047974\n"
     ]
    }
   ],
   "source": [
    "test_loss, test_acc = model_32.evaluate(test_images,  test_labels, verbose=2)\n",
    "print(\"Test accuracy is \",test_acc)"
   ]
  }
 ],
 "metadata": {
  "kernelspec": {
   "display_name": "Python 3",
   "language": "python",
   "name": "python3"
  },
  "language_info": {
   "codemirror_mode": {
    "name": "ipython",
    "version": 3
   },
   "file_extension": ".py",
   "mimetype": "text/x-python",
   "name": "python",
   "nbconvert_exporter": "python",
   "pygments_lexer": "ipython3",
   "version": "3.8.8"
  }
 },
 "nbformat": 4,
 "nbformat_minor": 5
}
